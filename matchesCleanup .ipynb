{
 "cells": [
  {
   "cell_type": "code",
   "execution_count": 34,
   "metadata": {},
   "outputs": [],
   "source": [
    "import csv\n",
    "import numpy as np\n",
    "import matplotlib.pyplot as plt\n",
    "import seaborn as sns\n",
    "import pandas as pd\n",
    "import sqlite3\n",
    "from pandasql import sqldf\n",
    "import xml.etree.ElementTree as ET\n",
    "psql= lambda q: sqldf(q, globals())"
   ]
  },
  {
   "cell_type": "markdown",
   "metadata": {},
   "source": [
    "# creating connection"
   ]
  },
  {
   "cell_type": "code",
   "execution_count": 2,
   "metadata": {},
   "outputs": [],
   "source": [
    "with sqlite3.connect('F:/Abhyas/WSU/Sem 3/Data Science/Project/Data/database.sqlite') as con:\n",
    "    matches = pd.read_sql_query(\"SELECT * from Match\", con)\n",
    "    team= pd.read_sql_query(\"SELECT * from Team\", con)\n",
    "    player= pd.read_sql_query(\"SELECT * from Player\", con)\n",
    "    leagues = pd.read_sql_query(\"SELECT * from League\", con)"
   ]
  },
  {
   "cell_type": "markdown",
   "metadata": {},
   "source": [
    "# getting desired data"
   ]
  },
  {
   "cell_type": "markdown",
   "metadata": {},
   "source": [
    "# Exploratory Data Analysis and Data Cleaning"
   ]
  },
  {
   "cell_type": "code",
   "execution_count": 3,
   "metadata": {},
   "outputs": [],
   "source": [
    "\"\"\"\n",
    "goal description\n",
    "'n': normal goals\n",
    "'p': penalties\n",
    "'o': own goals\n",
    "'npm': missed penalty \n",
    "'dg', 'rp' - goals not counted because of offside\n",
    "\"\"\"\n",
    "\n",
    "def getPlayersThatScored(xmlInfo):\n",
    "    if xmlInfo == None:\n",
    "        return None\n",
    "    \n",
    "    scorers = []\n",
    "    root = ET.fromstring(xmlInfo)\n",
    "    for child in root:\n",
    "        player = child.find('player1')\n",
    "        goal_type = child.find('goal_type')\n",
    "        \n",
    "        if player != None and goal_type != None:\n",
    "            if goal_type.text not in ['dg', 'npm', 'o', 'rp']:\n",
    "                scorers.append(player.text)  \n",
    "                \n",
    "    if len(scorers) > 0:\n",
    "        return ';'.join(scorers)\n",
    "    else:\n",
    "        return None\n",
    "\n",
    "def getPlayersThatAssisted(xmlInfo):\n",
    "    if xmlInfo==None:\n",
    "        return None\n",
    "    assisted=[]\n",
    "    root = ET.fromstring(xmlInfo)\n",
    "    for child in root:\n",
    "        assist= child.find('player2')\n",
    "        goal_type = child.find('goal_type')\n",
    "\n",
    "        if assist != None and goal_type != None:\n",
    "            if goal_type.text not in ['dg', 'npm', 'o', 'rp']:\n",
    "                assisted.append(assist.text) \n",
    "                \n",
    "    if len(assisted) > 0:\n",
    "        return ';'.join(assisted)\n",
    "    else:\n",
    "        return None"
   ]
  },
  {
   "cell_type": "code",
   "execution_count": 4,
   "metadata": {},
   "outputs": [],
   "source": [
    "def getStatsPerTeam(match_info):\n",
    "    xmlInfo = match_info[0]\n",
    "    if xmlInfo == None:\n",
    "        return [None, None]\n",
    "    \n",
    "    home_team_stats = 0\n",
    "    away_team_stats = 0\n",
    "    \n",
    "    root = ET.fromstring(xmlInfo)\n",
    "    for child in root:\n",
    "        team = child.find('team')\n",
    "        if team != None:\n",
    "            if int(team.text) == match_info['home_team_id']:\n",
    "                home_team_stats = home_team_stats + 1\n",
    "            elif int(team.text) == match_info['away_team_id']:\n",
    "                away_team_stats = away_team_stats + 1\n",
    "                \n",
    "    return [home_team_stats, away_team_stats]\n",
    "\n",
    "def getPossessionPerTeam(match_info):\n",
    "    xmlInfo = match_info[0]\n",
    "    if xmlInfo == None:\n",
    "        return [None, None]\n",
    "    \n",
    "    home_team_pos = 0\n",
    "    away_team_pos = 0\n",
    "    \n",
    "    root = ET.fromstring(xmlInfo)\n",
    "    for child in root:\n",
    "        elapsed= child.find('elapsed')\n",
    "        awaypos = child.find('awaypos')\n",
    "        homepos = child.find('homepos')\n",
    "\n",
    "        if int(elapsed.text) == 90:\n",
    "            home_team_pos= int(homepos.text)\n",
    "            away_team_pos= int(awaypos.text)\n",
    "                \n",
    "    return [home_team_pos, away_team_pos]"
   ]
  },
  {
   "cell_type": "markdown",
   "metadata": {},
   "source": [
    "# Get Average Age of the team"
   ]
  },
  {
   "cell_type": "code",
   "execution_count": 5,
   "metadata": {},
   "outputs": [],
   "source": [
    "def getAge(goals_and_assists, season):\n",
    "    query= \"\"\" select p.player_api_id, p.birthday from player as p\n",
    "INNER JOIN (select * from goals_and_assists) as g \n",
    "on p.player_api_id= g.id\"\"\"\n",
    "    ageDf= psql(query)\n",
    "    ageDf['season']= int(season.split('/')[0])\n",
    "    ageDf['birthday'] = pd.to_datetime(ageDf['birthday'])\n",
    "    ageDf['birth_year']= pd.DatetimeIndex(ageDf['birthday']).year\n",
    "    ageDf['age']= ageDf['season'] - ageDf['birth_year']\n",
    "    avg= ageDf['age'].mean()\n",
    "    return float('%.2f' %avg)"
   ]
  },
  {
   "cell_type": "markdown",
   "metadata": {},
   "source": [
    "# Winning rate of a season"
   ]
  },
  {
   "cell_type": "code",
   "execution_count": 6,
   "metadata": {},
   "outputs": [],
   "source": [
    "def getPoints(team_matches, name):\n",
    "    team_matches['result']= team_matches['home_team_goal']- team_matches['away_team_goal']\n",
    "    query= \"\"\" select team_api_id from team where team_long_name= '{}' \"\"\".format(name)\n",
    "    id= psql(query)\n",
    "    id= id['team_api_id'][0]\n",
    "    points=[]\n",
    "    prev=0\n",
    "    win=0\n",
    "    loss=0\n",
    "    draw=0\n",
    "    \n",
    "    for index, row in team_matches.iterrows():\n",
    "        if(row['result'] > 0 and row['home_team_id'] == id):\n",
    "            points.append(prev+3)\n",
    "            prev= prev+3\n",
    "            win+=1\n",
    "        \n",
    "        elif(row['result'] < 0 and row['away_team_id'] == id):\n",
    "            points.append(prev+3)\n",
    "            prev= prev+3\n",
    "            win+=1\n",
    "        \n",
    "        elif(row['result'] < 0 and row['home_team_id'] == id):\n",
    "            points.append(prev+0)\n",
    "            prev= prev+0\n",
    "            loss+=1\n",
    "            \n",
    "        elif(row['result'] > 0 and row['away_team_id'] == id):\n",
    "            points.append(prev+0)\n",
    "            prev= prev+0\n",
    "            loss+=1\n",
    "            \n",
    "        elif(row['result'] == 0):\n",
    "            points.append(prev+1)\n",
    "            prev= prev+1\n",
    "            draw+=1     \n",
    "    return points,win,loss,draw"
   ]
  },
  {
   "cell_type": "markdown",
   "metadata": {},
   "source": [
    "# Plot Results"
   ]
  },
  {
   "cell_type": "code",
   "execution_count": 32,
   "metadata": {},
   "outputs": [],
   "source": [
    "def plotResults(team_matches):\n",
    "    plt.plot(team_matches.points)\n",
    "    plt.xlabel('Game Day')\n",
    "    plt.ylabel('points')\n",
    "    plt.title('Results Plot')\n",
    "    plt.savefig('results.png', bbox_inches='tight')\n",
    "    plt.show()\n",
    "    plt.close()\n",
    "    \n",
    "\n",
    "def plotWLD(win,loss,draw):\n",
    "    width=0.5\n",
    "    res= ['win', 'loss', 'draw']\n",
    "    inp= [win, loss, draw]\n",
    "    plt.bar(res, inp, width, color='g')\n",
    "    plt.xlabel('Season Stats')\n",
    "    plt.ylabel('Total')\n",
    "    plt.title('W-L-D for the season')\n",
    "    plt.savefig('wld.png', bbox_inches='tight')\n",
    "    plt.show()\n",
    "    plt.close()\n",
    "    "
   ]
  },
  {
   "cell_type": "code",
   "execution_count": 37,
   "metadata": {},
   "outputs": [],
   "source": [
    "def getUserInput( goals, assists, players):\n",
    "    season = input(\"Which season do you want to look up\")\n",
    "    \n",
    "    input_option = input(\"How do you want to search for team name 1) Full Team Name 2) Abbreviated Name \")\n",
    "    team_query = \"\"\n",
    "    \n",
    "    if input_option == str(2):\n",
    "        name = input(\"Please enter abbreviated name\")\n",
    "        team_query = \"team_short_name == '%s'\" % name\n",
    "        query= \"\"\" select m.league_id, m.season, m.stage, m.date, m.match_api_id, m.home_team_api_id, m.away_team_api_id, m.home_team_goal, m.away_team_goal, m.goal, m.shoton, m.shotoff, m.foulcommit, m.card, m.cross, m.corner, m.possession from matches as m \n",
    "        INNER JOIN (select * from team where team_short_name= '%s') as t \n",
    "        on m.home_team_api_id= t.team_api_id or m.away_team_api_id= t.team_api_id\"\"\" % name\n",
    "        #print(team_query)\n",
    "    elif input_option == str(1):\n",
    "        name = input(\"Please enter full name\")\n",
    "        team_query = \"team_long_name == '%s'\" % name\n",
    "        query= \"\"\" select m.league_id, m.season, m.stage, m.date, m.match_api_id, m.home_team_api_id, m.away_team_api_id, m.home_team_goal, m.away_team_goal, m.goal, m.shoton, m.shotoff, m.foulcommit, m.card, m.cross, m.corner, m.possession from matches as m \n",
    "        INNER JOIN (select * from team where team_long_name= '%s') as t \n",
    "        on m.home_team_api_id= t.team_api_id or m.away_team_api_id= t.team_api_id\"\"\" %name\n",
    "        #print(team_query)\n",
    "\n",
    "    team_api_id = team.query(team_query)['team_api_id'].to_string(index=False)\n",
    "    #print(team_api_id)\n",
    "    detailed_query = \"home_team_api_id == \" + team_api_id + \" and season == '{}'\".format(season) \n",
    "    #print(query)\n",
    "    \n",
    "    matches_with_players = matches.query(detailed_query)\n",
    "    team_matches = psql(query)\n",
    "    team_matches= team_matches.rename(columns= {'home_team_api_id': 'home_team_id', 'away_team_api_id': 'away_team_id', 'match_api_id': 'match_id'})\n",
    "    team_matches = team_matches.query(\"season == '{}'\".format(season))\n",
    "    \n",
    "    team_matches['scored_by']= team_matches['goal'].apply(getPlayersThatScored)\n",
    "    #get assists\n",
    "    team_matches['assisted_by']= team_matches['goal'].apply(getPlayersThatAssisted)\n",
    "\n",
    "    #get cards\n",
    "    team_matches[['cards_home_team', 'cards_away_team']] = team_matches[['card', 'home_team_id', 'away_team_id']].apply(getStatsPerTeam, axis = 1, result_type='expand')\n",
    "    # get corners\n",
    "    team_matches[['corners_home_team', 'corners_away_team']] = team_matches[['corner', 'home_team_id', 'away_team_id']].apply(getStatsPerTeam, axis = 1, result_type='expand')\n",
    "    #get shoton\n",
    "    team_matches[['shoton_home_team', 'shoton_away_team']] = team_matches[['shoton', 'home_team_id', 'away_team_id']].apply(getStatsPerTeam, axis = 1, result_type='expand')\n",
    "    #get shotoff\n",
    "    team_matches[['shotoff_home_team', 'shotoff_away_team']] = team_matches[['shotoff', 'home_team_id', 'away_team_id']].apply(getStatsPerTeam, axis = 1, result_type='expand')\n",
    "    #get shotoff\n",
    "    team_matches[['cross_home_team', 'cross_away_team']] = team_matches[['cross', 'home_team_id', 'away_team_id']].apply(getStatsPerTeam, axis = 1, result_type='expand')\n",
    "    #get possession\n",
    "    team_matches[['possession_home_team', 'possession_away_team']]= team_matches[['possession', 'home_team_id', 'away_team_id']].apply(getPossessionPerTeam, axis = 1, result_type='expand')\n",
    "\n",
    "    #drop XML Columns\n",
    "    team_matches= team_matches.drop(columns= ['goal','card', 'corner', 'shoton', 'shotoff', 'cross', 'foulcommit', 'possession'])\n",
    "    #handle missing values for possession\n",
    "    team_matches.loc[team_matches.possession_home_team == 0, 'possession_home_team']= 50\n",
    "    team_matches.loc[team_matches.possession_away_team == 0, 'possession_away_team']= 50\n",
    "    \n",
    "    #print team\n",
    "    for i in range(1,12):\n",
    "        print(\"Player at position at \" + str(i) + \" for \" + name)\n",
    "        print(\" \")\n",
    "        for x in matches_with_players['home_player_'+str(i)].unique():\n",
    "            sql = \"player_api_id == \" + str(x)\n",
    "            \n",
    "            if not np.isnan(x):\n",
    "                player_name = player.query(sql).sort_values(by='player_name')['player_name'].to_string(index = False)\n",
    "            \n",
    "                print(player_name)\n",
    "                goals[x] = 0\n",
    "                assists[x] = 0\n",
    "                players[x] = player_name\n",
    "                #print(playerAttr.query(sql).iloc[0])\n",
    "                print(\" \")\n",
    "        print(\" \")\n",
    "\n",
    "    \n",
    "    for x in range(len(team_matches)):\n",
    "        score_information = team_matches.iloc[x].scored_by\n",
    "        assist_information = team_matches.iloc[x].assisted_by\n",
    "\n",
    "        if score_information != None:\n",
    "            for scorer in score_information.split(\";\"):\n",
    "                if int(scorer) in goals.keys():\n",
    "                    goals[int(scorer)] = goals[int(scorer)] + 1\n",
    "        if assist_information != None:\n",
    "            for assister in assist_information.split(\";\"):\n",
    "                if int(assister) in assists.keys():\n",
    "                    assists[int(assister)] = assists[int(assister)] + 1\n",
    "    \n",
    "    #get goals and assists for a season\n",
    "    global goals_and_assists\n",
    "    data = {'id': list(players.keys()),'name': list(players.values()), 'goals': list(goals.values()), 'assists': list(assists.values())}\n",
    "    goals_and_assists = pd.DataFrame.from_dict(data)\n",
    "    \n",
    "    points,win,loss,draw = getPoints(team_matches, name)\n",
    "    team_matches['points']= points\n",
    "    \n",
    "    category= ['win','loss','draw']\n",
    "    result= [str(win),str(loss),str(draw)]\n",
    "    # opening the csv file in 'w+' mode \n",
    "    file = open('wld2.csv', 'w+', newline ='') \n",
    "    # writing the data into the file \n",
    "    with file:     \n",
    "        write = csv.writer(file) \n",
    "        write.writerows(category)   \n",
    "        write.writerows(result)\n",
    "    file.close()\n",
    "    \n",
    "    #print stats\n",
    "    plotResults(team_matches)\n",
    "    plotWLD(win,loss,draw)\n",
    "    print(\"Total wins in Season {} : {}\".format(season, win))\n",
    "    print(\"Total loss in Season {} : {}\".format(season, loss))\n",
    "    print(\"Total draw in Season {} : {}\".format(season, draw))\n",
    "    print(\"Total points scored for the season {}: {}\".format(season, points[len(points)-1]))\n",
    "    avg= getAge(goals_and_assists, season)\n",
    "    print(\"Average age of squad: {}\".format(avg))\n",
    "    print(\"Highest Goal Scorer:\")\n",
    "    print(goals_and_assists[['name','goals']].sort_values(by= 'goals',ascending=False).head(3))\n",
    "    print(\"Highest assists:\")\n",
    "    print(goals_and_assists[['name','assists']].sort_values(by= 'assists',ascending=False).head(3))\n",
    "    \n",
    "    return goals_and_assists"
   ]
  },
  {
   "cell_type": "markdown",
   "metadata": {},
   "source": [
    "# Get User Input Function"
   ]
  },
  {
   "cell_type": "code",
   "execution_count": 84,
   "metadata": {
    "scrolled": false
   },
   "outputs": [
    {
     "name": "stdout",
     "output_type": "stream",
     "text": [
      "Which season do you want to look up2008/2009\n",
      "How do you want to search for team name 1) Full Team Name 2) Abbreviated Name 1\n",
      "Please enter full nameManchester United\n"
     ]
    },
    {
     "name": "stderr",
     "output_type": "stream",
     "text": [
      "<ipython-input-37-b67441712f58>:32: SettingWithCopyWarning: \n",
      "A value is trying to be set on a copy of a slice from a DataFrame.\n",
      "Try using .loc[row_indexer,col_indexer] = value instead\n",
      "\n",
      "See the caveats in the documentation: https://pandas.pydata.org/pandas-docs/stable/user_guide/indexing.html#returning-a-view-versus-a-copy\n",
      "  team_matches['scored_by']= team_matches['goal'].apply(getPlayersThatScored)\n",
      "<ipython-input-37-b67441712f58>:34: SettingWithCopyWarning: \n",
      "A value is trying to be set on a copy of a slice from a DataFrame.\n",
      "Try using .loc[row_indexer,col_indexer] = value instead\n",
      "\n",
      "See the caveats in the documentation: https://pandas.pydata.org/pandas-docs/stable/user_guide/indexing.html#returning-a-view-versus-a-copy\n",
      "  team_matches['assisted_by']= team_matches['goal'].apply(getPlayersThatAssisted)\n",
      "C:\\ProgramData\\Anaconda3\\envs\\python38\\lib\\site-packages\\pandas\\core\\frame.py:3065: SettingWithCopyWarning: \n",
      "A value is trying to be set on a copy of a slice from a DataFrame.\n",
      "Try using .loc[row_indexer,col_indexer] = value instead\n",
      "\n",
      "See the caveats in the documentation: https://pandas.pydata.org/pandas-docs/stable/user_guide/indexing.html#returning-a-view-versus-a-copy\n",
      "  self[k1] = value[k2]\n"
     ]
    },
    {
     "name": "stdout",
     "output_type": "stream",
     "text": [
      "Player at position at 1 for Manchester United\n",
      " \n",
      " Edwin van der Sar\n",
      " \n",
      " Tomasz Kuszczak\n",
      " \n",
      " \n",
      "Player at position at 2 for Manchester United\n",
      " \n",
      " Wes Brown\n",
      " \n",
      " Rafael\n",
      " \n",
      " Gary Neville\n",
      " \n",
      " John O'Shea\n",
      " \n",
      " Rio Ferdinand\n",
      " \n",
      " \n",
      "Player at position at 3 for Manchester United\n",
      " \n",
      " Rio Ferdinand\n",
      " \n",
      " Nemanja Vidic\n",
      " \n",
      " Gary Neville\n",
      " \n",
      " Patrice Evra\n",
      " \n",
      " \n",
      "Player at position at 4 for Manchester United\n",
      " \n",
      " Nemanja Vidic\n",
      " \n",
      " Jonny Evans\n",
      " \n",
      " Rafael\n",
      " \n",
      " \n",
      "Player at position at 5 for Manchester United\n",
      " \n",
      " Patrice Evra\n",
      " \n",
      " John O'Shea\n",
      " \n",
      " Nemanja Vidic\n",
      " \n",
      " \n",
      "Player at position at 6 for Manchester United\n",
      " \n",
      " Darren Fletcher\n",
      " \n",
      " Cristiano Ronaldo\n",
      " \n",
      " Ji-Sung Park\n",
      " \n",
      " \n",
      "Player at position at 7 for Manchester United\n",
      " \n",
      " Michael Carrick\n",
      " \n",
      " Darren Fletcher\n",
      " \n",
      " Paul Scholes\n",
      " \n",
      " \n",
      "Player at position at 8 for Manchester United\n",
      " \n",
      " Paul Scholes\n",
      " \n",
      " Anderson\n",
      " \n",
      " Darren Fletcher\n",
      " \n",
      " Michael Carrick\n",
      " \n",
      " Ryan Giggs\n",
      " \n",
      " \n",
      "Player at position at 9 for Manchester United\n",
      " \n",
      " Ryan Giggs\n",
      " \n",
      " Nani\n",
      " \n",
      " Ji-Sung Park\n",
      " \n",
      " Cristiano Ronaldo\n",
      " \n",
      " \n",
      "Player at position at 10 for Manchester United\n",
      " \n",
      " Fraizer Campbell\n",
      " \n",
      " Carlos Tevez\n",
      " \n",
      " Dimitar Berbatov\n",
      " \n",
      " Wayne Rooney\n",
      " \n",
      " Cristiano Ronaldo\n",
      " \n",
      " Ryan Giggs\n",
      " \n",
      " \n",
      "Player at position at 11 for Manchester United\n",
      " \n",
      " Wayne Rooney\n",
      " \n",
      " Dimitar Berbatov\n",
      " \n",
      " Carlos Tevez\n",
      " \n",
      " \n"
     ]
    },
    {
     "data": {
      "image/png": "[encoded data removed]",
      "text/plain": [
       "<Figure size 432x288 with 1 Axes>"
      ]
     },
     "metadata": {
      "needs_background": "light"
     },
     "output_type": "display_data"
    },
    {
     "data": {
      "image/png": "[encoded data removed]",
      "text/plain": [
       "<Figure size 432x288 with 1 Axes>"
      ]
     },
     "metadata": {
      "needs_background": "light"
     },
     "output_type": "display_data"
    },
    {
     "name": "stdout",
     "output_type": "stream",
     "text": [
      "Total wins in Season 2008/2009 : 28\n",
      "Total loss in Season 2008/2009 : 4\n",
      "Total draw in Season 2008/2009 : 6\n",
      "Total points scored for the season 2008/2009: 90\n",
      "Average age of squad: 26.45\n",
      "Highest Goal Scorer:\n",
      "                  name  goals\n",
      "11   Cristiano Ronaldo     18\n",
      "21        Wayne Rooney     12\n",
      "20    Dimitar Berbatov      9\n",
      "Highest assists:\n",
      "                 name  assists\n",
      "20   Dimitar Berbatov       10\n",
      "21       Wayne Rooney        7\n",
      "16         Ryan Giggs        7\n"
     ]
    }
   ],
   "source": [
    "#input dictionaries\n",
    "goals = {}\n",
    "assists = {}\n",
    "players = {}\n",
    "\n",
    "goals_and_assists= getUserInput( goals, assists, players )"
   ]
  },
  {
   "cell_type": "code",
   "execution_count": 83,
   "metadata": {},
   "outputs": [
    {
     "data": {
      "text/plain": [
       "'<shoton><value><stats><blocked>1</blocked></stats><event_incident_typefk>61</event_incident_typefk><elapsed>3</elapsed><subtype>blocked_shot</subtype><player1>24154</player1><sortorder>0</sortorder><team>10260</team><n>253</n><type>shoton</type><id>378828</id></value><value><stats><shoton>1</shoton></stats><event_incident_typefk>154</event_incident_typefk><elapsed>7</elapsed><subtype>header</subtype><player1>24157</player1><sortorder>2</sortorder><team>10260</team><n>258</n><type>shoton</type><id>378866</id></value><value><stats><shoton>1</shoton></stats><event_incident_typefk>153</event_incident_typefk><elapsed>14</elapsed><subtype>shot</subtype><player1>30829</player1><sortorder>1</sortorder><team>10260</team><n>274</n><type>shoton</type><id>378922</id></value><value><stats><shoton>1</shoton></stats><event_incident_typefk>153</event_incident_typefk><elapsed>14</elapsed><subtype>shot</subtype><player1>30373</player1><sortorder>2</sortorder><team>10260</team><n>279</n><type>shoton</type><id>378923</id></value><value><stats><shoton>1</shoton></stats><event_incident_typefk>137</event_incident_typefk><elapsed>17</elapsed><subtype>distance</subtype><player1>30373</player1><sortorder>3</sortorder><team>10260</team><n>272</n><type>shoton</type><id>378951</id></value><value><stats><blocked>1</blocked></stats><event_incident_typefk>61</event_incident_typefk><elapsed>43</elapsed><subtype>blocked_shot</subtype><player1>24154</player1><sortorder>0</sortorder><team>10260</team><n>296</n><type>shoton</type><id>379204</id></value><value><stats><shoton>1</shoton></stats><event_incident_typefk>137</event_incident_typefk><elapsed>50</elapsed><subtype>distance</subtype><player1>37799</player1><sortorder>0</sortorder><team>10261</team><n>302</n><type>shoton</type><id>379363</id></value><value><stats><shoton>1</shoton></stats><event_incident_typefk>149</event_incident_typefk><elapsed>58</elapsed><subtype>distance</subtype><player1>24157</player1><sortorder>0</sortorder><team>10260</team><n>310</n><type>shoton</type><id>379401</id></value><value><stats><blocked>1</blocked></stats><event_incident_typefk>61</event_incident_typefk><elapsed>58</elapsed><subtype>blocked_shot</subtype><player1>24157</player1><sortorder>4</sortorder><team>10260</team><n>311</n><type>shoton</type><id>379406</id></value><value><stats><blocked>1</blocked></stats><event_incident_typefk>61</event_incident_typefk><elapsed>60</elapsed><subtype>blocked_shot</subtype><player1>30829</player1><sortorder>0</sortorder><team>10260</team><n>314</n><type>shoton</type><id>379414</id></value><value><stats><shoton>1</shoton></stats><event_incident_typefk>136</event_incident_typefk><elapsed>64</elapsed><subtype>header</subtype><player1>24157</player1><sortorder>0</sortorder><team>10260</team><n>319</n><type>shoton</type><id>379426</id></value><value><stats><blocked>1</blocked></stats><event_incident_typefk>61</event_incident_typefk><elapsed>75</elapsed><subtype>blocked_shot</subtype><player1>30829</player1><sortorder>5</sortorder><team>10260</team><n>338</n><type>shoton</type><id>379466</id></value></shoton>'"
      ]
     },
     "execution_count": 83,
     "metadata": {},
     "output_type": "execute_result"
    }
   ],
   "source": [
    "matches.query(' league_id == 1729 ').shoton.iloc[0]"
   ]
  },
  {
   "cell_type": "code",
   "execution_count": 79,
   "metadata": {},
   "outputs": [
    {
     "data": {
      "text/plain": [
       "'1728    <goal><value><comment>n</comment><stats><goals...\\nName: goal, dtype: object'"
      ]
     },
     "execution_count": 79,
     "metadata": {},
     "output_type": "execute_result"
    }
   ],
   "source": []
  },
  {
   "cell_type": "code",
   "execution_count": null,
   "metadata": {},
   "outputs": [],
   "source": []
  }
 ],
 "metadata": {
  "kernelspec": {
   "display_name": "Python 3",
   "language": "python",
   "name": "python3"
  },
  "language_info": {
   "codemirror_mode": {
    "name": "ipython",
    "version": 3
   },
   "file_extension": ".py",
   "mimetype": "text/x-python",
   "name": "python",
   "nbconvert_exporter": "python",
   "pygments_lexer": "ipython3",
   "version": "3.8.5"
  }
 },
 "nbformat": 4,
 "nbformat_minor": 4
}
